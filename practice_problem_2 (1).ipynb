{
  "nbformat": 4,
  "nbformat_minor": 0,
  "metadata": {
    "colab": {
      "provenance": []
    },
    "kernelspec": {
      "name": "python3",
      "display_name": "Python 3"
    },
    "language_info": {
      "name": "python"
    }
  },
  "cells": [
    {
      "cell_type": "markdown",
      "source": [
        "1.\tWrite a Python program to accept a string tvalue from the user and display the count of each character in that string."
      ],
      "metadata": {
        "id": "uxmaiQACPhud"
      }
    },
    {
      "cell_type": "code",
      "execution_count": 1,
      "metadata": {
        "colab": {
          "base_uri": "https://localhost:8080/"
        },
        "id": "UVEjF5ieiuqQ",
        "outputId": "75ae69c7-eb02-41c6-ba5e-16b3017e63ba"
      },
      "outputs": [
        {
          "output_type": "stream",
          "name": "stdout",
          "text": [
            "malayalam\n",
            "m = 2\n",
            "y = 1\n",
            "l = 2\n",
            "a = 4\n"
          ]
        }
      ],
      "source": [
        "# 1\n",
        "word='malayalam'\n",
        "def count_character(word):\n",
        "    for character in set(word):\n",
        "        count_character = word.count(character)\n",
        "        print(character, '=' ,count_character)\n",
        "print(word)\n",
        "count_character(word)\n"
      ]
    },
    {
      "cell_type": "markdown",
      "source": [
        "2. Write a Python function to find the maximum of three numbers"
      ],
      "metadata": {
        "id": "-pr54NTKP9Kc"
      }
    },
    {
      "cell_type": "code",
      "source": [
        "#2\n",
        "def maximum(a,b,c):\n",
        "    if (a>b and a>c):\n",
        "        print(a)\n",
        "    elif b>c:\n",
        "        print(b)\n",
        "    else:\n",
        "        print(c)\n",
        "\n",
        "maximum(45,34,29)\n"
      ],
      "metadata": {
        "colab": {
          "base_uri": "https://localhost:8080/"
        },
        "id": "3Z8f56MOi8X6",
        "outputId": "257c64c6-07d5-4c2b-cc85-70adf6fd2b86"
      },
      "execution_count": null,
      "outputs": [
        {
          "output_type": "stream",
          "name": "stdout",
          "text": [
            "45\n"
          ]
        }
      ]
    },
    {
      "cell_type": "markdown",
      "source": [
        "3. WriteaPythonfunctioncalledexponent(base,exp)thatreturnsaninteger value of base raises to the power of exp."
      ],
      "metadata": {
        "id": "nEU3wKzLQXrM"
      }
    },
    {
      "cell_type": "code",
      "source": [
        "#3\n",
        "def exponent(base,exp):\n",
        "    print('Enter the base:',base)\n",
        "    print('Enter the exponent:',exp)\n",
        "    result= base**exp\n",
        "    print(result)\n",
        "\n",
        "exponent(2,3)"
      ],
      "metadata": {
        "colab": {
          "base_uri": "https://localhost:8080/"
        },
        "id": "vf-V9E1sjnij",
        "outputId": "02f1731c-bc5f-48b8-964b-04deba656867"
      },
      "execution_count": null,
      "outputs": [
        {
          "output_type": "stream",
          "name": "stdout",
          "text": [
            "Enter the base: 2\n",
            "Enter the exponent: 3\n",
            "8\n"
          ]
        }
      ]
    },
    {
      "cell_type": "markdown",
      "source": [
        "4.\tWrite a Python function that takes a positive integer and returns the sum of the cube of all the positive integers smaller than\n",
        "the specified number."
      ],
      "metadata": {
        "id": "6cI_64c5QhNN"
      }
    },
    {
      "cell_type": "code",
      "source": [
        "#4\n",
        "def cube_sum(num):\n",
        "    sum_num=((num-1)*num/2)**2\n",
        "    return int(sum_num)\n",
        "\n",
        "cube_sum(4)"
      ],
      "metadata": {
        "colab": {
          "base_uri": "https://localhost:8080/"
        },
        "id": "EKyz5Av8j7Pe",
        "outputId": "fc4aeb36-34f8-4ba9-a966-191d7f619d4d"
      },
      "execution_count": null,
      "outputs": [
        {
          "output_type": "execute_result",
          "data": {
            "text/plain": [
              "36"
            ]
          },
          "metadata": {},
          "execution_count": 7
        }
      ]
    },
    {
      "cell_type": "markdown",
      "source": [
        " 5.\tWrite a Python program which iterates from 1 to 10. For multiples of 2,print“Fizz”instead of the number and for the multiples of 5,print“Buzz”.For numbers which are multiples of both 2 and 5,print “FizzBuzz”."
      ],
      "metadata": {
        "id": "gYLGTNiURXdU"
      }
    },
    {
      "cell_type": "code",
      "source": [
        "#5\n",
        "for x in range(1,11):\n",
        "\tif (x%2==0 and x%5==0):\n",
        "\t\tprint(\"BussFizz\")\n",
        "\telif x%5==0:\n",
        "\t\tprint(\"Buzz\")\n",
        "\telif x%2==0:\n",
        "\t\tprint(\"Fizz\")\n",
        "\telse:\n",
        "\t\tprint(x)"
      ],
      "metadata": {
        "colab": {
          "base_uri": "https://localhost:8080/"
        },
        "id": "VTpWwfD8kI-4",
        "outputId": "60e1a1ec-9b02-4aef-9116-73274ed7eb99"
      },
      "execution_count": null,
      "outputs": [
        {
          "output_type": "stream",
          "name": "stdout",
          "text": [
            "1\n",
            "Fizz\n",
            "3\n",
            "Fizz\n",
            "Buzz\n",
            "Fizz\n",
            "7\n",
            "Fizz\n",
            "9\n",
            "BussFizz\n"
          ]
        }
      ]
    },
    {
      "cell_type": "markdown",
      "source": [
        "6.\tWrite a Python program to find the most frequent item in a list of numbers."
      ],
      "metadata": {
        "id": "XutGKlJLSA_c"
      }
    },
    {
      "cell_type": "code",
      "source": [
        "#6\n",
        "def most_frequent(List):\n",
        "    counter=0\n",
        "    num=List[0]\n",
        "\n",
        "    for i in List:\n",
        "        curr_freq=List.count(i)\n",
        "        if (curr_freq>counter):\n",
        "            counter=curr_freq\n",
        "            num=i\n",
        "    return num\n",
        "\n",
        "List=[2,4,3,3,2,3,5,3,4]\n",
        "print(most_frequent(List))"
      ],
      "metadata": {
        "colab": {
          "base_uri": "https://localhost:8080/"
        },
        "id": "LUbTRBMkkXB7",
        "outputId": "790e99ed-4310-4ff3-f6cb-8d3ac5b549d6"
      },
      "execution_count": null,
      "outputs": [
        {
          "output_type": "stream",
          "name": "stdout",
          "text": [
            "3\n"
          ]
        }
      ]
    },
    {
      "cell_type": "markdown",
      "source": [
        "\n",
        "7.\tWrite a Python program to find the sum of squares of the numbers in a list."
      ],
      "metadata": {
        "id": "RFnuGvTDSQoM"
      }
    },
    {
      "cell_type": "code",
      "source": [
        "#7\n",
        "List=[2,1,3,1]\n",
        "sum_square=[]\n",
        "for i  in List:\n",
        "    sum_square.append(i**2)\n",
        "print(sum(sum_square))"
      ],
      "metadata": {
        "colab": {
          "base_uri": "https://localhost:8080/"
        },
        "id": "DBlhva7yk5f2",
        "outputId": "955f10cc-b6d0-4cf1-bcdd-d86f55d164e9"
      },
      "execution_count": null,
      "outputs": [
        {
          "output_type": "stream",
          "name": "stdout",
          "text": [
            "15\n"
          ]
        }
      ]
    },
    {
      "cell_type": "markdown",
      "source": [
        "\n",
        "8.\tWrite a Python program using for loop that will iterate from 1 to 15. For each iteration,check if the current number is odd or even,and display the message to the screen as odd or even."
      ],
      "metadata": {
        "id": "Lib0Ps5jSjkB"
      }
    },
    {
      "cell_type": "code",
      "source": [
        "#8\n",
        "for i in range(1,16):\n",
        "    if i%2==0:\n",
        "\t    print(i,\"- even\")\n",
        "    else:\n",
        "\t    print(i,\"- odd\")"
      ],
      "metadata": {
        "colab": {
          "base_uri": "https://localhost:8080/"
        },
        "id": "K3QM8xpRlClV",
        "outputId": "d7f3e5af-4ca2-4cfa-db93-809c15617a0c"
      },
      "execution_count": 2,
      "outputs": [
        {
          "output_type": "stream",
          "name": "stdout",
          "text": [
            "1 - odd\n",
            "2 - even\n",
            "3 - odd\n",
            "4 - even\n",
            "5 - odd\n",
            "6 - even\n",
            "7 - odd\n",
            "8 - even\n",
            "9 - odd\n",
            "10 - even\n",
            "11 - odd\n",
            "12 - even\n",
            "13 - odd\n",
            "14 - even\n",
            "15 - odd\n"
          ]
        }
      ]
    },
    {
      "cell_type": "markdown",
      "source": [
        "\n",
        "9.\tWrite a Python program to convert temperatures to and from CelsiusFahrenheit.[Formula:c/5=f-32/9 where c=temperature in Celsius and f=temperatureinFahrenheit.]"
      ],
      "metadata": {
        "id": "zr5fl3TRTHOK"
      }
    },
    {
      "cell_type": "code",
      "source": [
        "#9\n",
        "def con_to_celsius(fahrenheit):\n",
        "    return (fahrenheit-32)*5/9\n",
        "fahrenheit=int(input('temperature in fahrenheit: '))\n",
        "print(con_to_celsius(fahrenheit))"
      ],
      "metadata": {
        "id": "7bO-kV5jlHeW",
        "colab": {
          "base_uri": "https://localhost:8080/"
        },
        "outputId": "7c3a13ba-af85-4c24-a2a1-38e00fa02bb1"
      },
      "execution_count": null,
      "outputs": [
        {
          "output_type": "stream",
          "name": "stdout",
          "text": [
            "temperature in fahrenheit: 41\n",
            "5.0\n"
          ]
        }
      ]
    },
    {
      "cell_type": "markdown",
      "source": [
        "10. Write a Python function to calculate the factorial of a number (a non negative integer). The function accepts the number as an argument."
      ],
      "metadata": {
        "id": "XohlbnkXTdjd"
      }
    },
    {
      "cell_type": "code",
      "source": [
        "# 10\n",
        "def factorial(n):\n",
        "     if n==0:\n",
        "         return 1\n",
        "     return n* factorial(n-1)\n",
        "number=3\n",
        "print(number)\n",
        "factorial(number)"
      ],
      "metadata": {
        "colab": {
          "base_uri": "https://localhost:8080/"
        },
        "id": "jrHOHRZ5BsIu",
        "outputId": "d35df286-f277-43a0-b143-d307c5f7ef9e"
      },
      "execution_count": null,
      "outputs": [
        {
          "output_type": "stream",
          "name": "stdout",
          "text": [
            "3\n"
          ]
        },
        {
          "output_type": "execute_result",
          "data": {
            "text/plain": [
              "6"
            ]
          },
          "metadata": {},
          "execution_count": 6
        }
      ]
    }
  ]
}